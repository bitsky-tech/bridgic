{
 "cells": [
  {
   "cell_type": "markdown",
   "id": "12eeea60",
   "metadata": {},
   "source": [
    "# Dynamic DAG\n",
    "\n",
    "Bridgic can dynamic revise arrange and execute logic at runtime. Now let's understand them with a sample example.\n",
    "\n",
    "<!-- <br>\n",
    "<div style=\"text-align: center;\">\n",
    "<img src=\"../imgs/dynamic_router.png\" alt=\"Parameter Passing\" width=\"400\" height=\"250\">\n",
    "</div>\n",
    "<br> -->\n",
    "\n",
    "Take the worker dynamically added at runtime as an example. In the context of article writing, the common practice is to split multiple sub-topics based on user input and then generate text around each topic. During this process, we cannot know in advance how many sub-problems the original input will be split into. We can only determine at runtime how many subsequent writing task nodes there will be. \n",
    "\n",
    "> Of course, we can specify that only a certain number of sub-topics be split out, butz it cannot guarantee that it will be applicable to all user inputs. In user inputs from different fields, it might be necessary to stipulate multiple splitting quantities.\n",
    "\n",
    "Now, we receive user input, break down subtopics, and then generate text. There are four steps:\n",
    "\n",
    "1. Receive user input\n",
    "2. Break down subtopics and add worker\n",
    "3. Write around subtopics\n",
    "4. Summary writing results\n"
   ]
  }
 ],
 "metadata": {
  "language_info": {
   "name": "python"
  }
 },
 "nbformat": 4,
 "nbformat_minor": 5
}
