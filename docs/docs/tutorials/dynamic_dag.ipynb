{
 "cells": [
  {
   "cell_type": "markdown",
   "id": "12eeea60",
   "metadata": {},
   "source": [
    "# Dynamic DAG"
   ]
  }
 ],
 "metadata": {
  "language_info": {
   "name": "python"
  }
 },
 "nbformat": 4,
 "nbformat_minor": 5
}
