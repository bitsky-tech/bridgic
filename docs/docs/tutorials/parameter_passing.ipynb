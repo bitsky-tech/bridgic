{
 "cells": [
  {
   "cell_type": "markdown",
   "id": "9ad7e065",
   "metadata": {},
   "source": [
    "# Parameter Passing\n",
    "\n",
    "Bridgic can orchestrate workflows composed of workers. There are three ways to pass data among workers, including Args-Mapping, Args-Injection, Inputs-Propagation. Now let's understand them with a specific example.\n",
    "\n",
    "Query expansion is a common step in RAG and can enhance the quality of RAG. To enhance the quality of query expansion, developers often first extract the entity information from the question and use it to assist the model in expanding the original question. Now let's take it as an example. The user inputs the original question, and then we expand the question to obtain more sub-questions. There are three steps to complete query extension:\n",
    "\n",
    "1. Receive the user's input and perform preprocessing, get original question.\n",
    "2. Extract the entity information from the question, get entity information.\n",
    "3. Expand and obtain multiple queries.\n",
    "\n",
    "Before we start, let's import the necessary packages and set the key for model invocation."
   ]
  },
  {
   "cell_type": "code",
   "execution_count": null,
   "id": "6ba6c074",
   "metadata": {},
   "outputs": [],
   "source": [
    "import os\n",
    "from bridgic.core.automa import GraphAutoma, worker, ArgsMappingRule\n",
    "from bridgic.llms.openai_like.openai_like_llm import OpenAILikeLlm, Message, Role\n",
    "\n",
    "\n",
    "_api_base = os.environ.get(\"OPENAI_LIKE_API_BASE\")\n",
    "_api_key = os.environ.get(\"OPENAI_LIKE_API_KEY\")\n",
    "_model_name = os.environ.get(\"OPENAI_LIKE_MODEL_NAME\")"
   ]
  },
  {
   "cell_type": "markdown",
   "id": "76de67bc",
   "metadata": {},
   "source": [
    "Now, let's implement this query expansion. We assume that the user query we receive is in this format:\n",
    "\n",
    "```json\n",
    "{\n",
    "    \"query\": \"Q: Are there any new movies that are worth watching recently?\",\n",
    "    \"date\": \"2025-09-30\"\n",
    "}\n",
    "```"
   ]
  },
  {
   "cell_type": "code",
   "execution_count": null,
   "id": "99b17307",
   "metadata": {},
   "outputs": [],
   "source": [
    "class QueryExpansion(GraphAutoma):\n",
    "    @worker(is_start=True)\n",
    "    async def start(self, query_obj: dict):\n",
    "        \"\"\"\n",
    "        Receive the user's input and perform preprocessing, get original question.\n",
    "        \"\"\"\n",
    "        query = query_obj[\"query\"].split(\":\")[1].strip()  # preprocess the query\n",
    "        return query\n",
    "\n",
    "    @worker(dependencies=[\"start\"], args_mapping_rule=ArgsMappingRule.AS_IS)\n",
    "    async def extract_entity(self, question: str):\n",
    "        \"\"\"\n",
    "        Extract the entity information from the question, get entity information.\n",
    "        \"\"\"\n",
    "        llm = OpenAILikeLlm(\n",
    "            api_base=_api_base,\n",
    "            api_key=_api_key,\n",
    "        )\n",
    "        response = llm.chat(\n",
    "            model=_model_name,\n",
    "            messages=[Message.from_text(text=\"Hello, how are you?\", role=Role.USER)],\n",
    "        )\n",
    "\n",
    "    @worker(dependencies=[\"extract_entity\"], args_mapping_rule=ArgsMappingRule.AS_IS)\n",
    "    async def expand_query(self, question: str, entity: str):\n",
    "        \"\"\"\n",
    "        Expand and obtain multiple queries.\n",
    "        \"\"\"\n",
    "        pass\n",
    "        \n"
   ]
  },
  {
   "cell_type": "markdown",
   "id": "af1b98fd",
   "metadata": {},
   "source": [
    "## 1. Args-Mapping\n",
    "\n",
    "Args-Mapping is mainly used for parameter passing between workers that have direct process dependency relationships. For detailed information about it, please refer to the documentation.\n",
    "\n",
    "### AS_IS mode"
   ]
  },
  {
   "cell_type": "markdown",
   "id": "89ddcb4b",
   "metadata": {},
   "source": [
    "# "
   ]
  }
 ],
 "metadata": {
  "kernelspec": {
   "display_name": ".venv",
   "language": "python",
   "name": "python3"
  },
  "language_info": {
   "codemirror_mode": {
    "name": "ipython",
    "version": 3
   },
   "file_extension": ".py",
   "mimetype": "text/x-python",
   "name": "python",
   "nbconvert_exporter": "python",
   "pygments_lexer": "ipython3",
   "version": "3.9.6"
  }
 },
 "nbformat": 4,
 "nbformat_minor": 5
}
