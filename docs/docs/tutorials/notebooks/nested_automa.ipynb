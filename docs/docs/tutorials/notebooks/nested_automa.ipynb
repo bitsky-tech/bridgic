{
 "cells": [
  {
   "cell_type": "markdown",
   "id": "cb404083",
   "metadata": {},
   "source": [
    "# Nested Automa\n",
    "\n"
   ]
  }
 ],
 "metadata": {
  "language_info": {
   "name": "python"
  }
 },
 "nbformat": 4,
 "nbformat_minor": 5
}
