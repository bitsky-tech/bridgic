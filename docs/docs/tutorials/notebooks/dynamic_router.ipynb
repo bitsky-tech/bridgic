{
 "cells": [
  {
   "cell_type": "markdown",
   "id": "5c59164c",
   "metadata": {},
   "source": [
    "# Dynamic Router\n",
    "\n",
    "Bridgic can dynamic routing to the corresponding worker based on the runtime conditions. Now let's understand them with a sample example.\n",
    "\n",
    "<br>\n",
    "<div style=\"text-align: center;\">\n",
    "<img src=\"../imgs/dynamic_router.png\" alt=\"Parameter Passing\" width=\"400\" height=\"250\">\n",
    "</div>\n",
    "<br>\n",
    "\n",
    "Dynamic routing is a common requirement in chatbots. For instance, it involves analyzing the input query to determine the main domain or field it pertains to, and then dynamically routing it to the corresponding processing logic.\n",
    "\n",
    "The user inputs the original query, we identify whether it is a medical-related or legal-related issue, and then we answer it by specialized logic. There are three steps:\n",
    "\n",
    "1. Receive user input\n",
    "2. Domain recognition and dynamic routing to corroct worker\n",
    "3. Answer query\n",
    "\n",
    "Before we start, let's prepare the running environment."
   ]
  },
  {
   "cell_type": "code",
   "execution_count": null,
   "id": "aa8cc14e",
   "metadata": {},
   "outputs": [],
   "source": [
    "# Get the environment variables.\n",
    "import os\n",
    "from dotenv import load_dotenv\n",
    "load_dotenv()\n",
    "\n",
    "_api_base = os.environ.get(\"VLLM_SERVER_API_BASE\")\n",
    "_api_key = os.environ.get(\"VLLM_SERVER_API_KEY\")\n",
    "_model_name = os.environ.get(\"VLLM_SERVER_MODEL_NAME\")"
   ]
  },
  {
   "cell_type": "code",
   "execution_count": null,
   "id": "427fb00e",
   "metadata": {},
   "outputs": [],
   "source": [
    "# Import the necessary packages.\n",
    "from bridgic.core.automa import GraphAutoma, worker\n",
    "from bridgic.core.intelligence import Message, Role, Regex\n",
    "from bridgic.llms.vllm.vllm_server_llm import VllmServerLlm"
   ]
  },
  {
   "cell_type": "markdown",
   "id": "a1d8d4d3",
   "metadata": {},
   "source": [
    "We assume that the user query we receive is a string, let's implement this dynamic router to answer user query.\n",
    "\n",
    "We initialize the model to facilitate our subsequent convenient invocation of it to complete tasks."
   ]
  },
  {
   "cell_type": "code",
   "execution_count": 3,
   "id": "53988463",
   "metadata": {},
   "outputs": [],
   "source": [
    "llm = VllmServerLlm(  # the llm instance\n",
    "    api_base=_api_base,\n",
    "    api_key=_api_key,\n",
    "    timeout=20,\n",
    ")"
   ]
  },
  {
   "cell_type": "markdown",
   "id": "b474223a",
   "metadata": {},
   "source": [
    "Next, let's complete the two steps of Dynamic router to achieve our goal:"
   ]
  },
  {
   "cell_type": "code",
   "execution_count": 4,
   "id": "f6148283",
   "metadata": {},
   "outputs": [],
   "source": [
    "class DomainChatbot(GraphAutoma):\n",
    "    @worker(is_start=True)\n",
    "    async def pre_query(self, query: str):  # receive user input and preprocess it\n",
    "        return query\n",
    "\n",
    "    @worker(dependencies=[\"pre_query\"])\n",
    "    async def domain_recognition(self, query: str):  # domain recognition and dynamic routing\n",
    "        response: str = await llm.astructured_output(\n",
    "            model=_model_name,\n",
    "            constraint=Regex(pattern=r\"^medical$|^legal$\", description=\"model output should be only 'medical' or 'legal'\"),\n",
    "            messages=[\n",
    "                Message.from_text(text=\"Please identify the domain of the following query\", role=Role.SYSTEM),\n",
    "                Message.from_text(text=query, role=Role.USER),\n",
    "            ]\n",
    "        )\n",
    "        print(f'The query domain is: {response}')  # print the response\n",
    "        \n",
    "        # dynamic routing\n",
    "        if response == \"medical\":\n",
    "            return self.ferry_to('answer_medical_query', query)\n",
    "        elif response == \"legal\":\n",
    "            return self.ferry_to('answer_legal_query', query)\n",
    "    \n",
    "    @worker(is_output=True)\n",
    "    async def answer_medical_query(self, query: str):  # answer medical-related query\n",
    "        response = await llm.achat(\n",
    "            model=_model_name,\n",
    "            messages=[\n",
    "                Message.from_text(text=\"You are a medical expert. Answer the following medical-related query\", role=Role.SYSTEM),\n",
    "                Message.from_text(text=query, role=Role.USER),\n",
    "            ]\n",
    "        )\n",
    "        return response.message.content\n",
    "\n",
    "    @worker(is_output=True)\n",
    "    async def answer_legal_query(self, query: str):  # answer legal-related query\n",
    "        response = await llm.achat(\n",
    "            model=_model_name,\n",
    "            messages=[\n",
    "                Message.from_text(text=\"You are a legal expert. Answer the following legal-related query\", role=Role.SYSTEM),\n",
    "                Message.from_text(text=query, role=Role.USER),\n",
    "            ]\n",
    "        )\n",
    "        return response.message.content"
   ]
  },
  {
   "cell_type": "markdown",
   "id": "ba45fc80",
   "metadata": {},
   "source": [
    "Let's run it!"
   ]
  },
  {
   "cell_type": "code",
   "execution_count": 5,
   "id": "85367d66",
   "metadata": {},
   "outputs": [
    {
     "name": "stdout",
     "output_type": "stream",
     "text": [
      "The query domain is: medical\n"
     ]
    },
    {
     "data": {
      "text/plain": [
       "'Aspirin, also known as acetylsalicylic acid, is a widely used medication with several important medical properties. It is one of the oldest and most well-known over-the-counter (OTC) drugs, originally derived from willow bark.\\n\\n### Key Uses of Aspirin:\\n\\n1. **Pain Relief (Analgesic)**  \\n   Aspirin helps relieve mild to moderate pain such as headaches, toothaches, muscle aches, and menstrual cramps.\\n\\n2. **Reducing Fever (Antipyretic)**  \\n   It lowers body temperature in cases of fever, such as in infections.\\n\\n3. **Reducing Inflammation (Anti-inflammatory)**  \\n   Aspirin helps reduce inflammation, which can be beneficial in conditions like rheumatoid arthritis or other inflammatory disorders.\\n\\n4. **Preventing Blood Clots (Antiplatelet Effect)**  \\n   This is one of its most important therapeutic uses. Aspirin inhibits the formation of blood clots by blocking the action of a substance called cyclooxygenase (COX), which reduces the production of thromboxane—a molecule that promotes platelet aggregation.  \\n   - **Low-dose aspirin (typically 81 mg)** is commonly prescribed for long-term use to prevent heart attacks and strokes in individuals at risk due to cardiovascular disease (e.g., history of heart attack, angina, or stroke).\\n\\n5. **Cardiovascular Protection**  \\n   Regular low-dose aspirin is recommended for secondary prevention in patients with a history of cardiovascular events to reduce the risk of recurrence.\\n\\n---\\n\\n### How It Works:\\nAspirin irreversibly inhibits the enzyme COX-1 and COX-2, which are involved in producing prostaglandins. Prostaglandins play roles in inflammation, pain, fever, and platelet aggregation. By blocking COX-1, aspirin reduces platelet activation and clot formation.\\n\\n---\\n\\n### Safety and Precautions:\\n- **Gastrointestinal Side Effects**: Aspirin can irritate the stomach lining and increase the risk of ulcers or bleeding, especially with long-term or high-dose use.\\n- **Bleeding Risk**: Due to its antiplatelet effect, it increases the risk of bleeding (e.g., gastrointestinal bleeding, bruising).\\n- **Allergic Reactions**: Some people may have a severe allergic reaction, including asthma exacerbation (especially in those with a history of aspirin sensitivity).\\n- **Reproductive Health**: Aspirin is not recommended during pregnancy, especially in the third trimester, due to risks of fetal complications.\\n- **Children and Fever**: Aspirin should be avoided in children and adolescents with viral infections (like chickenpox or flu) due to the risk of Reye’s syndrome, a rare but serious condition.\\n\\n---\\n\\n### Summary:\\n**Aspirin is a versatile medication used for pain, fever, inflammation, and cardiovascular protection. Its most significant medical role today is in preventing heart attacks and strokes through long-term low-dose use. However, it should be used cautiously and only as directed by a healthcare provider.**\\n\\nAlways consult a doctor before starting or stopping aspirin therapy, especially if you have underlying health conditions or are taking other medications.'"
      ]
     },
     "execution_count": 5,
     "metadata": {},
     "output_type": "execute_result"
    }
   ],
   "source": [
    "query = \"What is the aspirin?\"\n",
    "domain_chatbot = DomainChatbot()\n",
    "await domain_chatbot.arun(query)"
   ]
  },
  {
   "cell_type": "markdown",
   "id": "2d950657",
   "metadata": {},
   "source": [
    "> If you encounter a Readtimeout error during the execution of the above process, it might be because the timeout period set during the initialization of the llm is too short, causing the model to time out before it finishes responding.\n",
    "\n",
    "Get it! We have successfully completed the functions of domain identification, dynamic routing, and professional answering.\n",
    "\n",
    "## Ferry\n",
    "\n",
    "In bridgic, We use the `ferry_to` mechanism to achieve dynamic routing. Its first parameter is the `worker_key` of the worker to which the route will be directed, and the second parameter is the input parameter passed to the worker being routed to. \n",
    "\n",
    "If you want to know the detailed mechanism and specifics of ferry_to, you can refer to this document: **XXX**."
   ]
  }
 ],
 "metadata": {
  "kernelspec": {
   "display_name": ".venv",
   "language": "python",
   "name": "python3"
  },
  "language_info": {
   "codemirror_mode": {
    "name": "ipython",
    "version": 3
   },
   "file_extension": ".py",
   "mimetype": "text/x-python",
   "name": "python",
   "nbconvert_exporter": "python",
   "pygments_lexer": "ipython3",
   "version": "3.9.6"
  }
 },
 "nbformat": 4,
 "nbformat_minor": 5
}
