{
 "cells": [
  {
   "cell_type": "markdown",
   "id": "5c59164c",
   "metadata": {},
   "source": [
    "# Dynamic Router\n"
   ]
  }
 ],
 "metadata": {
  "language_info": {
   "name": "python"
  }
 },
 "nbformat": 4,
 "nbformat_minor": 5
}
