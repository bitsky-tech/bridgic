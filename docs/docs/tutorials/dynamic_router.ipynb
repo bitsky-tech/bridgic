{
 "cells": [
  {
   "cell_type": "markdown",
   "id": "5c59164c",
   "metadata": {},
   "source": [
    "# Dynamic Router\n",
    "\n",
    "Bridgic can dynamic routing to the corresponding worker based on the runtime conditions. Now let's understand them with a sample example.\n",
    "\n",
    "<br>\n",
    "<div style=\"text-align: center;\">\n",
    "<img src=\"../imgs/dynamic_router.png\" alt=\"Parameter Passing\" width=\"400\" height=\"250\">\n",
    "</div>\n",
    "<br>\n",
    "\n",
    "Dynamic routing is a common requirement in chatbots. For instance, it involves analyzing the input query to determine the main domain or field it pertains to, and then dynamically routing it to the corresponding processing logic.\n",
    "\n",
    "The user inputs the original query, we identify whether it is a medical-related or legal-related issue, and then we answer it by specialized logic. There are three steps:\n",
    "\n",
    "1. Receive user input\n",
    "2. Domain recognition and dynamic routing to corroct worker\n",
    "3. Answer query\n",
    "\n",
    "Before we start, let's prepare the running environment.\n",
    "\n",
    "Use the `export` command to set up the API information for model invocation."
   ]
  },
  {
   "cell_type": "code",
   "execution_count": null,
   "id": "294ba7fa",
   "metadata": {
    "vscode": {
     "languageId": "shellscript"
    }
   },
   "outputs": [],
   "source": [
    "# Setting environment variables in the terminal:\n",
    "export VLLM_SERVER_API_BASE=\"your-api-url\"\n",
    "export VLLM_SERVER_API_KEY=\"your-api-key\"\n",
    "export VLLM_SERVER_MODEL_NAME=\"your-model-name\""
   ]
  },
  {
   "cell_type": "markdown",
   "id": "c2856d99",
   "metadata": {},
   "source": [
    "Get the environment variables."
   ]
  },
  {
   "cell_type": "code",
   "execution_count": null,
   "id": "aa8cc14e",
   "metadata": {},
   "outputs": [],
   "source": [
    "import os\n",
    "from dotenv import load_dotenv\n",
    "load_dotenv()\n",
    "\n",
    "_api_base = os.environ.get(\"VLLM_SERVER_API_BASE\")\n",
    "_api_key = os.environ.get(\"VLLM_SERVER_API_KEY\")\n",
    "_model_name = os.environ.get(\"VLLM_SERVER_MODEL_NAME\")"
   ]
  },
  {
   "cell_type": "markdown",
   "id": "e7ef9380",
   "metadata": {},
   "source": [
    "Import the necessary packages."
   ]
  },
  {
   "cell_type": "code",
   "execution_count": null,
   "id": "427fb00e",
   "metadata": {},
   "outputs": [],
   "source": [
    "from typing import List, Dict, Tuple\n",
    "from bridgic.core.automa import GraphAutoma, worker\n",
    "from bridgic.llms.vllm.vllm_server_llm import VllmServerLlm, Message, Role, Choice"
   ]
  },
  {
   "cell_type": "markdown",
   "id": "a1d8d4d3",
   "metadata": {},
   "source": [
    "We assume that the user query we receive is a string, let's implement this dynamic router to answer user query.\n",
    "\n",
    "We initialize the model to facilitate our subsequent convenient invocation of it to complete tasks."
   ]
  },
  {
   "cell_type": "code",
   "execution_count": null,
   "id": "53988463",
   "metadata": {},
   "outputs": [],
   "source": [
    "llm = VllmServerLlm(  # the llm instance\n",
    "    api_base=_api_base,\n",
    "    api_key=_api_key,\n",
    "    timeout=5,\n",
    ")"
   ]
  },
  {
   "cell_type": "markdown",
   "id": "b474223a",
   "metadata": {},
   "source": [
    "Next, let's complete the two steps of Dynamic router to achieve our goal:"
   ]
  },
  {
   "cell_type": "code",
   "execution_count": null,
   "id": "f6148283",
   "metadata": {},
   "outputs": [],
   "source": [
    "class DomainChatbot(GraphAutoma):\n",
    "    @worker(is_start=True)\n",
    "    async def pre_query(self, query: str):  # receive user input and preprocess it\n",
    "        return query\n",
    "\n",
    "    @worker(dependencies=[\"pre_query\"])\n",
    "    async def domain_recognition(self, query: str):  # domain recognition and dynamic routing\n",
    "        response: str = await llm.astructured_output(\n",
    "            model=_model_name,\n",
    "            constraint=Choice(choices=[\"medical\", \"legal\"]),\n",
    "            messages=[\n",
    "                Message.from_text(text=\"Please identify the domain of the following query\", role=Role.SYSTEM),\n",
    "                Message.from_text(text=query, role=Role.USER),\n",
    "            ]\n",
    "        )\n",
    "        \n",
    "        # dynamic routing\n",
    "        if response == \"medical\":\n",
    "            return self.ferry_to('answer_medical_query', query)\n",
    "        elif response == \"legal\":\n",
    "            return self.ferry_to('answer_legal_query', query)\n",
    "    \n",
    "    @worker(is_output=True)\n",
    "    async def answer_medical_query(self, query: str):  # answer medical-related query\n",
    "        response: str = await llm.achat(\n",
    "            model=_model_name,\n",
    "            messages=[\n",
    "                Message.from_text(text=\"You are a medical expert. Answer the following medical-related query\", role=Role.SYSTEM),\n",
    "                Message.from_text(text=query, role=Role.USER),\n",
    "            ]\n",
    "        )\n",
    "        return response\n",
    "\n",
    "    @worker(is_output=True)\n",
    "    async def answer_legal_query(self, query: str):  # answer legal-related query\n",
    "        response: str = await llm.achat(\n",
    "            model=_model_name,\n",
    "            messages=[\n",
    "                Message.from_text(text=\"You are a legal expert. Answer the following legal-related query\", role=Role.SYSTEM),\n",
    "                Message.from_text(text=query, role=Role.USER),\n",
    "            ]\n",
    "        )\n",
    "        return response\n",
    "\n",
    "    "
   ]
  },
  {
   "cell_type": "markdown",
   "id": "ba45fc80",
   "metadata": {},
   "source": [
    "Let's run it!"
   ]
  },
  {
   "cell_type": "code",
   "execution_count": null,
   "id": "85367d66",
   "metadata": {},
   "outputs": [],
   "source": [
    "query = \"What is the asptite?\"\n",
    "domain_chatbot = DomainChatbot(output_worker_key=\"answer_medical_query\")\n",
    "await domain_chatbot.run(query)"
   ]
  }
 ],
 "metadata": {
  "language_info": {
   "name": "python"
  }
 },
 "nbformat": 4,
 "nbformat_minor": 5
}
