{
 "cells": [
  {
   "cell_type": "markdown",
   "id": "5c59164c",
   "metadata": {},
   "source": [
    "# Dynamic Router\n",
    "\n",
    "Bridgic provides dynamic routing to the corresponding worker based on the runtime conditions. Now let's understand them with a sample example.\n",
    "\n",
    "<br>\n",
    "<div style=\"text-align: center;\">\n",
    "<img src=\"../imgs/dynamic_router.png\" alt=\"Parameter Passing\" width=\"400\" height=\"250\">\n",
    "</div>\n",
    "<br>\n",
    "\n",
    "Dynamic routing is a common requirement in chatbots. For instance, it involves analyzing the input question to determine the main category or field it pertains to, and then dynamically routing it to the corresponding processing logic.\n",
    "\n",
    "The user inputs the original question, we identify whether it is a medical-related or legal-related issue, and then we answer it by specialized logic. There are three steps:\n",
    "\n",
    "1. Domain recognition\n",
    "2. Dynamic routing to corroct worker\n",
    "3. Answer query\n",
    "\n",
    "Before we start, let's prepare the running environment.\n",
    "\n",
    "Use the `export` command to set up the API information for model invocation."
   ]
  },
  {
   "cell_type": "code",
   "execution_count": null,
   "id": "294ba7fa",
   "metadata": {
    "vscode": {
     "languageId": "shellscript"
    }
   },
   "outputs": [],
   "source": [
    "# Setting environment variables in the terminal:\n",
    "export VLLM_SERVER_API_BASE=\"your-api-url\"\n",
    "export VLLM_SERVER_API_KEY=\"your-api-key\"\n",
    "export VLLM_SERVER_MODEL_NAME=\"your-model-name\""
   ]
  },
  {
   "cell_type": "markdown",
   "id": "c2856d99",
   "metadata": {},
   "source": [
    "Get the environment variables."
   ]
  },
  {
   "cell_type": "code",
   "execution_count": null,
   "id": "aa8cc14e",
   "metadata": {
    "vscode": {
     "languageId": "shellscript"
    }
   },
   "outputs": [],
   "source": [
    "import os\n",
    "from dotenv import load_dotenv\n",
    "load_dotenv()\n",
    "\n",
    "_api_base = os.environ.get(\"VLLM_SERVER_API_BASE\")\n",
    "_api_key = os.environ.get(\"VLLM_SERVER_API_KEY\")\n",
    "_model_name = os.environ.get(\"VLLM_SERVER_MODEL_NAME\")"
   ]
  },
  {
   "cell_type": "markdown",
   "id": "e7ef9380",
   "metadata": {},
   "source": [
    "Import the necessary packages."
   ]
  },
  {
   "cell_type": "code",
   "execution_count": null,
   "id": "427fb00e",
   "metadata": {
    "vscode": {
     "languageId": "shellscript"
    }
   },
   "outputs": [],
   "source": [
    "from pydantic import BaseModel, Field\n",
    "from typing import List, Dict, Tuple\n",
    "from bridgic.core.automa import GraphAutoma, worker, ArgsMappingRule\n",
    "from bridgic.llms.vllm.vllm_server_llm import VllmServerLlm, Message, Role, PydanticModel"
   ]
  }
 ],
 "metadata": {
  "language_info": {
   "name": "python"
  }
 },
 "nbformat": 4,
 "nbformat_minor": 5
}
