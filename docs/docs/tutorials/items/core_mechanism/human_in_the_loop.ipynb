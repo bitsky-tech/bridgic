{
 "cells": [
  {
   "cell_type": "markdown",
   "id": "25379a8b",
   "metadata": {},
   "source": [
    "# Human-in-the-loop\n",
    "\n",
    "When building workflows or agents with Bridgic, developers can seamlessly integrate human-in-the-loop interactions into the execution flow. At any point, the system can pause its automated process to request human input — such as approval, verification, or additional instructions — and wait for a response. Once the human feedback is provided, the workflow or agent resumes execution from the point of interruption, adapting its behavior based on the new input. Bridgic ensures that the entire process, including paused and resumed states, can be reliably serialized and deserialized for persistence and recovery.\n",
    "\n",
    "## Interaction Scenarios\n",
    "\n",
    "Let's go through a few simple examples to understand this process. Before that, let's set up the running environment."
   ]
  },
  {
   "cell_type": "markdown",
   "id": "8c7afcec",
   "metadata": {},
   "source": [
    "Run the following `pip` command to make sure the 'openai' integration is installed.\n",
    "\n",
    "```shell\n",
    "pip install bridgic-llms-openai\n",
    "```"
   ]
  },
  {
   "cell_type": "markdown",
   "id": "be65ef89",
   "metadata": {},
   "source": []
  },
  {
   "cell_type": "code",
   "execution_count": null,
   "id": "2e32e34c",
   "metadata": {},
   "outputs": [],
   "source": [
    "import os\n",
    "\n",
    "# Get the API base, API key and model name.\n",
    "_api_key = os.environ.get(\"OPENAI_API_KEY\")\n",
    "_api_base = os.environ.get(\"OPENAI_API_BASE\")\n",
    "_model_name = os.environ.get(\"OPENAI_MODEL_NAME\")\n",
    "\n",
    "from pydantic import BaseModel, Field\n",
    "from bridgic.core.automa import GraphAutoma, worker, Snapshot\n",
    "from bridgic.core.automa.args import From\n",
    "from bridgic.core.automa.interaction import Event, Feedback, FeedbackSender, InteractionFeedback, InteractionException\n",
    "from bridgic.core.model.types import Message, Role\n",
    "from bridgic.core.model.protocols import PydanticModel\n",
    "from bridgic.llms.openai import OpenAILlm"
   ]
  },
  {
   "cell_type": "markdown",
   "id": "44f15da9",
   "metadata": {},
   "source": [
    "### Programming assistant\n",
    "\n",
    "During the development of a programming assistant, it can be designed to automatically execute and verify the code it generates. However, since program execution consumes system resources, the user must decide whether to grant permission for the assistant to run the code.\n",
    "\n",
    "Let's achieve it with Bridgic. The [source code](https://github.com/bitsky-tech/bridgic-examples/blob/main/human_in_the_loop/code_assistant.py) can be downloaded in GitHub. The steps are as follows:\n",
    "\n",
    "1. Generate code based on user requirements.\n",
    "2. Ask the user if it is allowed to execute the generated code.\n",
    "3. Output result."
   ]
  },
  {
   "cell_type": "code",
   "execution_count": 25,
   "id": "99108f38",
   "metadata": {},
   "outputs": [],
   "source": [
    "# Set the LLM\n",
    "llm = OpenAILlm(api_base=_api_base, api_key=_api_key, timeout=10)\n",
    "\n",
    "class CodeBlock(BaseModel):\n",
    "    code: str = Field(description=\"The code to be executed.\")\n",
    "\n",
    "class CodeAssistant(GraphAutoma):\n",
    "    @worker(is_start=True)\n",
    "    async def generate_code(self, user_requirement: str):\n",
    "        response = await llm.astructured_output(\n",
    "            model=_model_name,\n",
    "            messages=[\n",
    "                Message.from_text(text=f\"You are a programming assistant. Please generate code according to the user's requirements.\", role=Role.SYSTEM),\n",
    "                Message.from_text(text=user_requirement, role=Role.USER),\n",
    "            ],\n",
    "            constraint=PydanticModel(model=CodeBlock)\n",
    "        )\n",
    "        return response.code\n",
    "\n",
    "    @worker(dependencies=[\"generate_code\"])\n",
    "    async def ask_to_run_code(self, code: str):\n",
    "        event = Event(event_type=\"can_run_code\", data=code)\n",
    "        feedback = await self.request_feedback_async(event)\n",
    "        return feedback.data\n",
    "        \n",
    "    @worker(dependencies=[\"ask_to_run_code\"])\n",
    "    async def output_result(self, feedback: str, code: str = From(\"generate_code\")):\n",
    "        code = code.strip(\"```python\").strip(\"```\")\n",
    "        if feedback == \"yes\":\n",
    "            print(f\"- - - - - - Result - - - - - -\")\n",
    "            exec(code)\n",
    "            print(f\"- - - - - - End - - - - - -\")\n",
    "        else:\n",
    "            print(f\"This code was rejected for execution. In response to the requirements, I have generated the following code:\\n```python\\n{code}\\n```\")"
   ]
  },
  {
   "cell_type": "markdown",
   "id": "5136fc6c",
   "metadata": {},
   "source": [
    "In the `ask_to_run_code()` method of `CodeAssistant`, we use [`request_feedback_async()`](../../../../reference/bridgic-core/bridgic/core/automa/#bridgic.core.automa.Automa.request_feedback_async) to send an Event to the human user and expect to receive a feedback. To handle this Event, the corresponding logic needs to be registered with the automa, like this:"
   ]
  },
  {
   "cell_type": "code",
   "execution_count": 26,
   "id": "23256d8c",
   "metadata": {},
   "outputs": [],
   "source": [
    "# Handle can_run_code event\n",
    "def can_run_code_handler(event: Event, feedback_sender: FeedbackSender):\n",
    "    print(f\"Can I run this code now to verify if it's correct?\")\n",
    "    print(f\"```python\\n{event.data}\\n```\")\n",
    "    res = input(\"Please input your answer (yes/no): \")\n",
    "    if res in [\"yes\", \"no\"]:\n",
    "        feedback_sender.send(Feedback(data=res))\n",
    "    else:\n",
    "        print(\"Invalid input. Please input yes or no.\")\n",
    "        feedback_sender.send(Feedback(data=\"no\"))\n",
    "\n",
    "# register can_run_code event handler to `CodeAssistant` automa\n",
    "code_assistant = CodeAssistant()\n",
    "code_assistant.register_event_handler(\"can_run_code\", can_run_code_handler)"
   ]
  },
  {
   "cell_type": "markdown",
   "id": "be93ace5",
   "metadata": {},
   "source": [
    "Now let's use it!"
   ]
  },
  {
   "cell_type": "code",
   "execution_count": 27,
   "id": "3f87eada",
   "metadata": {},
   "outputs": [
    {
     "name": "stdout",
     "output_type": "stream",
     "text": [
      "Can I run this code now to verify if it's correct?\n",
      "```python\n",
      "def greet():\n",
      "    print('Hello, World!')\n",
      "\n",
      "greet()\n",
      "```\n",
      "- - - - - - Result - - - - - -\n",
      "Hello, World!\n",
      "- - - - - - End - - - - - -\n"
     ]
    }
   ],
   "source": [
    "await code_assistant.arun(user_requirement=\"Please write a function to print 'Hello, World!' and run it.\")"
   ]
  },
  {
   "cell_type": "markdown",
   "id": "5674e729",
   "metadata": {},
   "source": [
    "In the above example, Bridgic wrap the message sent to the human user in an [`Event`](../../../../reference/bridgic-core/bridgic/core/automa/interaction/#bridgic.core.automa.interaction.Event) and he message received from the user in a [`FeedBack`](../../../../reference/bridgic-core/bridgic/core/automa/interaction/#bridgic.core.automa.interaction.Feedback). \n",
    "\n",
    "- `Event` contains three fields:\n",
    "    - `event_type`: A string. The event type is used to identify the registered event handler.\n",
    "    - `timestamp`: A Python datetime object. The timestamp of the event. The default is `datetime.now()`.\n",
    "    - `data`: The data attached to the event.\n",
    "- `FeedBack` contains one field:\n",
    "    - `data`: The data attached to the feedback.\n",
    "\n",
    "`request_feedback_async()` send an event to the user and request for a feedback. This method call will block the caller until the feedback is received. However, thanks to Python’s asynchronous event loop mechanism, other automas running on the same main thread will not be blocked. \n",
    "\n",
    "The registered event handler must be defined as type of [`EventHandlerType`](../../../../reference/bridgic-core/bridgic/core/automa/interaction/#bridgic.core.automa.interaction.EventHandlerType).  Here it should be a function that takes an [`Event`](../../../../reference/bridgic-core/bridgic/core/automa/interaction/#bridgic.core.automa.interaction.Event) and a [`FeedbackSender`](../../../../reference/bridgic-core/bridgic/core/automa/interaction/#bridgic.core.automa.interaction.FeedbackSender) as arguments.\n",
    "\n",
    "### Counting notifier\n",
    "\n",
    "Sometimes, it may be necessary to post an event without expecting any feedback, for example, message notifications or progress updates. At this point, we call the [`post_event()`](../../../../reference/bridgic-core/bridgic/core/automa/#bridgic.core.automa.Automa.post_event) method and register a event handler of type [`EventHandlerType`](../../../../reference/bridgic-core/bridgic/core/automa/interaction/#bridgic.core.automa.interaction.EventHandlerType) to process the event. Here the event handler should be a function that takes only an `Event` as an argument\n",
    "\n",
    "For example, a counting notifier is implemented to count from 1 up to the number specified by the `user_input` argument. The user can also specify which number (`notify_int`) should trigger a reminder."
   ]
  },
  {
   "cell_type": "code",
   "execution_count": null,
   "id": "58ba2ee0",
   "metadata": {},
   "outputs": [
    {
     "name": "stdout",
     "output_type": "stream",
     "text": [
      "Loop from 1 to 10\n",
      "!! Now count to Loop 5 times. !!\n"
     ]
    }
   ],
   "source": [
    "class MessageNotifier(GraphAutoma):\n",
    "    @worker(is_start=True)\n",
    "    async def notify(self, user_input: int, notify_int: int):\n",
    "        print(f\"Loop from 1 to {user_input}\")\n",
    "        for i in range(1, user_input + 1):\n",
    "            if i == notify_int:\n",
    "                event = Event(event_type=\"message_notification\", data=f\"Loop {i} times\")\n",
    "                self.post_event(event)\n",
    "\n",
    "def message_notification_handler(event: Event):\n",
    "    print(f'!! Now count to {event.data}. !!')\n",
    "\n",
    "message_notifier = MessageNotifier()\n",
    "message_notifier.register_event_handler(\"message_notification\", message_notification_handler)\n",
    "await message_notifier.arun(user_input=10, notify_int=5)\n",
    "        "
   ]
  },
  {
   "cell_type": "markdown",
   "id": "ed7fb65d",
   "metadata": {},
   "source": [
    "### Reimbursement Workflow\n",
    "\n",
    "In certain scenarios, it may be necessary to wait for feedback for a long time after triggering an event. However, keeping the system in a waiting state would result in unnecessary resource consumption.\n",
    "\n",
    "Bridgic provides a powerful [`interact_with_human`](../../../../reference/bridgic-core/bridgic/core/automa/#bridgic.core.automa.Automa.interact_with_human) mechanism for interruption recovery in this situation. This allows the workflow or agent to pause and persist its current execution state when such an event occur, wait for feedback, and then resume execution.\n",
    "\n",
    "Let's implement a reimbursement workflow that is automatically triggered by the enterprise's OA system and requires approval before the reimbursement can be completed. The [source code](https://github.com/bitsky-tech/bridgic-examples/blob/main/human_in_the_loop/reimbursement_automation.py) can be downloaded in GitHub."
   ]
  },
  {
   "cell_type": "code",
   "execution_count": 28,
   "id": "f969e43c",
   "metadata": {},
   "outputs": [],
   "source": [
    "import os\n",
    "import tempfile\n",
    "from httpx import delete\n",
    "from pydantic import BaseModel\n",
    "from datetime import datetime\n",
    "from bridgic.core.automa import GraphAutoma, worker, Snapshot\n",
    "from bridgic.core.automa.args import From\n",
    "from bridgic.core.automa.interaction import Event, InteractionFeedback, InteractionException\n",
    "\n",
    "class ReimbursementRecord(BaseModel):\n",
    "    request_id: int\n",
    "    employee_id: int\n",
    "    employee_name: str\n",
    "    reimbursement_month: str\n",
    "    reimbursement_amount: float\n",
    "    description: str\n",
    "    created_at: datetime\n",
    "    updated_at: datetime\n",
    "\n",
    "class AuditResult(BaseModel):\n",
    "    request_id: int\n",
    "    passed: bool\n",
    "    audit_reason: str\n",
    "\n",
    "class ReimbursementWorkflow(GraphAutoma):\n",
    "    @worker(is_start=True)\n",
    "    async def load_record(self, request_id: int):\n",
    "        \"\"\"\n",
    "        The reimbursement workflow can be triggered by the OA system — for instance, when an employee submits a new reimbursement request. Each request is uniquely identified by a `request_id`, which is then used to retrieve the corresponding reimbursement record from the database. \n",
    "        \"\"\"\n",
    "        # Load the data from database.\n",
    "        return await self.load_record_from_database(request_id)\n",
    "    \n",
    "    @worker(dependencies=[\"load_record\"])\n",
    "    async def audit_by_rules(self, record: ReimbursementRecord):\n",
    "        \"\"\"\n",
    "        This method simulates the logic for automatically determining whether a reimbursement request complies with business rules.  \n",
    "\n",
    "        Typical reasons for a reimbursement request failing the audit include:\n",
    "\n",
    "        - Unusually large individual amounts\n",
    "        - Excessive total amounts within a month\n",
    "        - Expenses that do not meet reimbursement policies\n",
    "        - Missing or invalid supporting documents\n",
    "        - Duplicate submissions\n",
    "        - Other non-compliant cases\n",
    "        \"\"\"\n",
    "        if record.reimbursement_amount > 2500:\n",
    "            return AuditResult(\n",
    "                request_id=record.request_id,\n",
    "                passed=False,\n",
    "                audit_reason=\"The reimbursement amount {record.reimbursement_amount} exceeds the limit of 2500.\"\n",
    "            )\n",
    "        # TODO: Add more audit rules here.\n",
    "        ...\n",
    "\n",
    "        return AuditResult(\n",
    "            request_id=record.request_id,\n",
    "            passed=True,\n",
    "            audit_reason=\"The reimbursement request passed the audit.\"\n",
    "        )\n",
    "    \n",
    "    @worker(dependencies=[\"audit_by_rules\"])\n",
    "    async def execute_payment(self, result: AuditResult, record: ReimbursementRecord = From(\"load_record\")):\n",
    "        if not result.passed:\n",
    "            print(f\"The reimbursement request {record.request_id} failed the audit. Reason: {result.audit_reason}\")\n",
    "            return False\n",
    "        \n",
    "        # The reimbursement request {record.request_id} has passed the audit rules. Requesting approval from the manager...\n",
    "        # human-in-the-loop: request approval from the manager.\n",
    "        event = Event(\n",
    "            event_type=\"request_approval\",\n",
    "            data={\n",
    "                \"reimbursement_record\": record,\n",
    "                \"audit_result\": result\n",
    "            }        \n",
    "        )\n",
    "        feedback: InteractionFeedback = self.interact_with_human(event)\n",
    "        if feedback.data == \"yes\":\n",
    "            await self.lanuch_payment_transaction(record.request_id)\n",
    "            print(f\"The reimbursement request {record.request_id} has been approved. Payment transaction launched.\")\n",
    "            return True\n",
    "\n",
    "        print(f\"!!!The reimbursement request {record.request_id} has been rejected. Payment transaction not launched.\\nRejection info:\\n {feedback.data}\")\n",
    "        return False\n",
    "\n",
    "    async def load_record_from_database(self, request_id: int):\n",
    "        # Simulate a database query...\n",
    "        return ReimbursementRecord(\n",
    "            request_id=request_id,\n",
    "            employee_id=888888,\n",
    "            employee_name=\"John Doe\",\n",
    "            reimbursement_month=\"2025-10\",\n",
    "            reimbursement_amount=1024.00,\n",
    "            description=\"Hotel expenses for a business trip\",\n",
    "            created_at=datetime(2025, 10, 11, 10, 0, 0),\n",
    "            updated_at=datetime(2025, 10, 11, 10, 0, 0)\n",
    "        )\n",
    "    async def lanuch_payment_transaction(self, request_id: int):\n",
    "        # Simulate a payment execution...\n",
    "        ..."
   ]
  },
  {
   "cell_type": "markdown",
   "id": "d4365edb",
   "metadata": {},
   "source": [
    "This workflow, `ReimbursementWorkflow`, consists of three steps:\n",
    "\n",
    "- `load_record`: Loading the reimbursement record identified by a `request_id` from database.\n",
    "- `audit_by_rules`: Automatically audit the reimbursement request by predefined rules.\n",
    "- `execute_payment`: Requesting approval from the manager (a human user) after the reimbursement request has passed the audit rules.\n",
    "\n",
    "In the third step (`execute_payment`), calling [`interact_with_human()`](../../../../reference/bridgic-core/bridgic/core/automa/#bridgic.core.automa.Automa.interact_with_human) posts an event and pauses the workflow execution. "
   ]
  },
  {
   "cell_type": "code",
   "execution_count": 29,
   "id": "301c3e55",
   "metadata": {},
   "outputs": [
    {
     "name": "stdout",
     "output_type": "stream",
     "text": [
      "The `ReimbursementWorkflow` instance has been paused and serialized to a snapshot.\n",
      "The snapshot has been persisted to database.\n"
     ]
    }
   ],
   "source": [
    "async def save_snapshot_to_database(snapshot: Snapshot):\n",
    "    # Simulate a database storage using temporary files.\n",
    "    temp_dir = tempfile.TemporaryDirectory()\n",
    "    bytes_file = os.path.join(temp_dir.name, \"reimbursement_workflow.bytes\")\n",
    "    version_file = os.path.join(temp_dir.name, \"reimbursement_workflow.version\")\n",
    "    with open(bytes_file, \"wb\") as f:\n",
    "        f.write(snapshot.serialized_bytes)\n",
    "    with open(version_file, \"w\") as f:\n",
    "        f.write(snapshot.serialization_version)\n",
    "\n",
    "    return {\n",
    "        \"bytes_file\": bytes_file,\n",
    "        \"version_file\": version_file,\n",
    "        \"temp_dir\": temp_dir,\n",
    "    }\n",
    "\n",
    "\n",
    "reimbursement_workflow = ReimbursementWorkflow()\n",
    "try:\n",
    "    await reimbursement_workflow.arun(request_id=123456)\n",
    "except InteractionException as e:\n",
    "    # The `ReimbursementWorkflow` instance has been paused and serialized to a snapshot.\n",
    "    interaction_id = e.interactions[0].interaction_id\n",
    "    record = e.interactions[0].event.data[\"reimbursement_record\"]\n",
    "    # Save the snapshot to the database.\n",
    "    db_context = await save_snapshot_to_database(e.snapshot)\n",
    "    print(\"The `ReimbursementWorkflow` instance has been paused and serialized to a snapshot.\")\n",
    "    print(\"The snapshot has been persisted to database.\")"
   ]
  },
  {
   "cell_type": "markdown",
   "id": "589db18c",
   "metadata": {},
   "source": [
    "When the [`arun`](../../../../reference/bridgic-core/bridgic/core/automa/#bridgic.core.automa.GraphAutoma.arun) method of the automa instance is called, an [`InteractionException`](../../../../reference/bridgic-core/bridgic/core/automa/interaction/#bridgic.core.automa.interaction.InteractionException) will be raised as a result of invoking [`interact_with_human()`](../../../../reference/bridgic-core/bridgic/core/automa/#bridgic.core.automa.Automa.interact_with_human).\n",
    "\n",
    "An `InteractionException` contains two fields:\n",
    "\n",
    "- `interactions`: A list of [`Interaction`](../../../../reference/bridgic-core/bridgic/core/automa/interaction/#bridgic.core.automa.interaction.Interaction)s, each `Interaction` containing an `interaction_id` and an `event`.\n",
    "- `snapshot`: a [`Snapshot`](../../../../reference/bridgic-core/bridgic/core/automa/#bridgic.core.automa.Snapshot) instance, representing the Automa's current state serialized in bytes.\n",
    "\n",
    "Then the workflow, `ReimbursementWorkflow`, pauses, and the snapshot corresponding to the interaction is persisted in the database for later recovery."
   ]
  },
  {
   "cell_type": "code",
   "execution_count": 30,
   "id": "bf642f11",
   "metadata": {},
   "outputs": [
    {
     "name": "stdout",
     "output_type": "stream",
     "text": [
      "Waiting for the manager's approval (It may take long time) ...\n",
      "-------------------------------------\n",
      "\n",
      "The `ReimbursementWorkflow` instance has been deserialized and loaded from the snapshot. It will resume to run immediately...\n",
      "The reimbursement request 123456 has been approved. Payment transaction launched.\n"
     ]
    }
   ],
   "source": [
    "async def load_snapshot_from_database(db_context):\n",
    "    # Simulate a database query using temporary files.\n",
    "    bytes_file = db_context[\"bytes_file\"]\n",
    "    version_file = db_context[\"version_file\"]\n",
    "    temp_dir = db_context[\"temp_dir\"]\n",
    "\n",
    "    with open(bytes_file, \"rb\") as f:\n",
    "        serialized_bytes = f.read()\n",
    "    with open(version_file, \"r\") as f:\n",
    "        serialization_version = f.read()\n",
    "    snapshot = Snapshot(\n",
    "        serialized_bytes=serialized_bytes, \n",
    "        serialization_version=serialization_version\n",
    "    )\n",
    "    return snapshot\n",
    "\n",
    "print(\"Waiting for the manager's approval (It may take long time) ...\")\n",
    "human_feedback = input(\n",
    "    \"\\n\"\n",
    "    \"---------- Message to User ------------\\n\"\n",
    "    \"A reimbursement request has been submitted and audited by the system.\\n\"\n",
    "    \"Please check the details and give your approval or rejection.\\n\"\n",
    "\n",
    "    \"Reimbursement Request Details:\\n\"\n",
    "    f\"\\n{record.model_dump_json(indent=4)}\\n\"\n",
    "    \"If you approve the request, please input 'yes'.\\n\"\n",
    "    \"Otherwise, please input 'no' or the reason for rejection.\\n\"\n",
    "    \"Your input: \"\n",
    "    )\n",
    "\n",
    "# Load the snapshot from the database.\n",
    "snapshot = await load_snapshot_from_database(db_context)\n",
    "# Deserialize the `ReimbursementWorkflow` instance from the snapshot.\n",
    "reimbursement_workflow = ReimbursementWorkflow.load_from_snapshot(snapshot)\n",
    "print(\"-------------------------------------\\n\")\n",
    "print(\"The `ReimbursementWorkflow` instance has been deserialized and loaded from the snapshot. It will resume to run immediately...\")\n",
    "feedback = InteractionFeedback(\n",
    "    interaction_id=interaction_id,\n",
    "    data=human_feedback\n",
    ")\n",
    "await reimbursement_workflow.arun(interaction_feedback=feedback)"
   ]
  },
  {
   "cell_type": "markdown",
   "id": "891a619b",
   "metadata": {},
   "source": [
    "After an extended period, the user may complete the approval interaction for the reimbursement workflow. The system then retrieves the serialized snapshot from the database and deserializes it into an instance of the `ReimbursementWorkflow` class. Subsequently, the user’s decision — either approval or rejection — is wrapped into an [`InteractionFeedback`](../../../../reference/bridgic-core/bridgic/core/automa/interaction/#bridgic.core.automa.interaction.InteractionFeedback) object, and the arun method of the automa is invoked again to resume the workflow execution from the previously paused state.\n",
    "\n",
    "When facing a situation that requires feedback but the waiting time is uncertain, this mechanism saves the current state and re-enters when the right moment comes in the future. This not only enables the system to release resources that would otherwise be occupied for a long time, but also allows it to be awakened at an appropriate time."
   ]
  },
  {
   "cell_type": "markdown",
   "id": "f4716b28",
   "metadata": {},
   "source": [
    "## What have we done\n",
    "\n",
    "Bridgic provides flexible support for any form of human-in-the-loop interaction:\n",
    "\n",
    "- [`request_feedback_async`](../../../../reference/bridgic-core/bridgic/core/automa/#bridgic.core.automa.Automa.request_feedback_async): Used when the event must return feedback before the program can proceed. The program remains blocked until feedback is received.\n",
    "- [`post_event`](../../../../reference/bridgic-core/bridgic/core/automa/#bridgic.core.automa.Automa.post_event): Used when you just want to notify or trigger an event without expecting any feedback. The main program never blocks.\n",
    "- [`interact_with_human`](../../../../reference/bridgic-core/bridgic/core/automa/#bridgic.core.automa.Automa.interact_with_human): Used when feedback is required but may arrive much later. The program is suspended and persisted, and resumes immediately when feedback becomes available."
   ]
  }
 ],
 "metadata": {
  "kernelspec": {
   "display_name": "bridgic_env",
   "language": "python",
   "name": "python3"
  },
  "language_info": {
   "codemirror_mode": {
    "name": "ipython",
    "version": 3
   },
   "file_extension": ".py",
   "mimetype": "text/x-python",
   "name": "python",
   "nbconvert_exporter": "python",
   "pygments_lexer": "ipython3",
   "version": "3.12.12"
  }
 },
 "nbformat": 4,
 "nbformat_minor": 5
}
