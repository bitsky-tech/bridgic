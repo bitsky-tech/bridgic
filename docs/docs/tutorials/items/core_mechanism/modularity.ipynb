{
 "cells": [
  {
   "cell_type": "markdown",
   "id": "cb404083",
   "metadata": {},
   "source": [
    "# Modularity\n",
    "\n",
    "During the development process, we may have already had some individual automas. Now, we want to combine them to create a more powerful automa. **An automa can also be added as a Worker to another Automa to achieve reuse**.\n",
    "\n",
    "Let's understand it with a sample case.\n",
    "\n",
    "## Report Writer\n",
    "\n",
    "The typical process of report writing usually involves drafting an outline based on user input and then writing the report according to the outline. Now, let's first write an Automa for generating an outline, and then nest it within the Automa for writing the report.\n",
    "\n",
    "### 1. Initialize\n",
    "\n",
    "Initialize the runtime environment."
   ]
  },
  {
   "cell_type": "code",
   "execution_count": null,
   "id": "0b537f20",
   "metadata": {},
   "outputs": [],
   "source": [
    "import os\n",
    "from dotenv import load_dotenv\n",
    "load_dotenv()\n",
    "\n",
    "# Set the API base and key.\n",
    "_api_base = os.environ.get(\"VLLM_SERVER_API_BASE\")\n",
    "_api_key = os.environ.get(\"VLLM_SERVER_API_KEY\")\n",
    "_model_name = os.environ.get(\"VLLM_SERVER_MODEL_NAME\")\n",
    "\n",
    "# Import the necessary modules.\n",
    "from typing import List\n",
    "from pydantic import BaseModel, Field\n",
    "from bridgic.core.automa import GraphAutoma, worker\n",
    "from bridgic.core.model.types import Message, Role\n",
    "from bridgic.core.model.protocols import PydanticModel\n",
    "from bridgic.llms.vllm import VllmServerLlm\n",
    "\n",
    "llm = VllmServerLlm(api_base=_api_base, api_key=_api_key, timeout=30)"
   ]
  },
  {
   "cell_type": "markdown",
   "id": "4b8d32c6",
   "metadata": {},
   "source": [
    "### 2. Outline Automa\n",
    "\n",
    "Outline Automa drafts an outline based on user input. Output an `Outline` object for subsequent processing."
   ]
  },
  {
   "cell_type": "code",
   "execution_count": null,
   "id": "b6ad0984",
   "metadata": {},
   "outputs": [],
   "source": [
    "class Outline(BaseModel):\n",
    "    outline: List[str] = Field(description=\"The outline of the use input to write report\")\n",
    "\n",
    "class OutlineWriter(GraphAutoma):\n",
    "    @worker(is_start=True)\n",
    "    async def pre_query(self, user_input: str):  # Receive the user's input and preprocess query\n",
    "        return user_input\n",
    "\n",
    "    @worker(dependencies=[\"pre_query\"], is_output=True)\n",
    "    async def topic_split(self, query: str):\n",
    "        response: Outline = await llm.astructured_output(\n",
    "            model=_model_name,\n",
    "            messages=[\n",
    "                Message.from_text(text=\"Write a sample report outline within 3 topics based on the user's input\", role=Role.SYSTEM),\n",
    "                Message.from_text(text=query, role=Role.USER,),\n",
    "            ],\n",
    "            constraint=PydanticModel(model=Outline)\n",
    "        )\n",
    "        return response"
   ]
  },
  {
   "cell_type": "markdown",
   "id": "22bdd31b",
   "metadata": {},
   "source": [
    "### 3. Write Automa\n",
    "\n",
    "We can reuse the `OutlineWriter` in `ReportWriter`."
   ]
  },
  {
   "cell_type": "code",
   "execution_count": null,
   "id": "9d6a7318",
   "metadata": {},
   "outputs": [],
   "source": [
    "class ReportWriter(GraphAutoma):\n",
    "    @worker(dependencies=[\"outline_writer\"])\n",
    "    async def write_report(self, outline: Outline):\n",
    "        outline_str = \"\\n\".join(outline.outline)\n",
    "        print(f'- - - - - Outline - - - - -')\n",
    "        print(outline_str)\n",
    "        print(f'- - - - - End - - - - -\\n')\n",
    "        \n",
    "        response = await llm.achat(\n",
    "            model=_model_name,\n",
    "            messages=[\n",
    "                Message.from_text(text=\"write a sample report based on the user's input and strictly follow the outline\", role=Role.SYSTEM),\n",
    "                Message.from_text(text=f\"{outline_str}.\", role=Role.USER),\n",
    "            ],\n",
    "        )\n",
    "        print(f'- - - - - Report - - - - -')\n",
    "        print(response.message.content)\n",
    "        print(f'- - - - - End - - - - -\\n')\n",
    "        return response.message.content\n",
    "\n",
    "report_writer = ReportWriter()\n",
    "report_writer.add_worker(\n",
    "    key=\"outline_writer\",\n",
    "    worker=OutlineWriter(),\n",
    "    is_start=True\n",
    ")"
   ]
  },
  {
   "cell_type": "markdown",
   "id": "2339fa62",
   "metadata": {},
   "source": [
    "Now, let's run it!"
   ]
  },
  {
   "cell_type": "code",
   "execution_count": 19,
   "id": "6550c782",
   "metadata": {},
   "outputs": [
    {
     "name": "stdout",
     "output_type": "stream",
     "text": [
      "- - - - - Outline - - - - -\n",
      "Definition of an Agent\n",
      "Types of Agents in Different Contexts\n",
      "Role and Function of Agents in AI and Automation\n",
      "- - - - - End - - - - -\n",
      "\n",
      "- - - - - Report - - - - -\n",
      "**Report: Definition of an Agent, Types of Agents in Different Contexts, and Role and Function of Agents in AI and Automation**\n",
      "\n",
      "---\n",
      "\n",
      "**1. Definition of an Agent**\n",
      "\n",
      "An *agent* is an autonomous entity that perceives its environment through sensors and acts upon that environment using actuators to achieve specific goals. In a broad sense, an agent is capable of making decisions based on its internal state and external inputs, adapting its behavior over time in response to changing conditions. The concept of an agent is foundational in artificial intelligence (AI), robotics, and automated systems. It operates independently or in coordination with other agents, following predefined rules, learning from experience, or using reasoning mechanisms to perform tasks efficiently.\n",
      "\n",
      "In computational terms, an agent typically consists of:\n",
      "- **Perception**: Sensing and interpreting environmental inputs.\n",
      "- **Reasoning/Decision-making**: Processing information to determine the best course of action.\n",
      "- **Action**: Executing decisions through physical or digital means.\n",
      "\n",
      "Agents can be simple (e.g., a thermostat adjusting temperature) or complex (e.g., AI-driven trading bots in financial markets).\n",
      "\n",
      "---\n",
      "\n",
      "**2. Types of Agents in Different Contexts**\n",
      "\n",
      "Agents vary significantly depending on the domain or context in which they operate. Below are key types categorized by application areas:\n",
      "\n",
      "**a. In Artificial Intelligence (AI):**\n",
      "- **Simple Reflex Agents**: Make decisions based solely on current percept. Example: A thermostat that turns on the heater when the room temperature drops below a threshold.\n",
      "- **Model-Based Reflex Agents**: Use an internal model of the world to make decisions. Example: A self-driving car that predicts traffic patterns based on historical data.\n",
      "- **Goal-Based Agents**: Act to achieve specific goals. Example: A virtual assistant like Siri or Alexa that performs tasks such as setting reminders or sending messages.\n",
      "- **Utility-Based Agents**: Choose actions that maximize expected utility. Example: An AI recommending a product based on user preferences and potential profit.\n",
      "- **Learning Agents**: Improve performance over time through experience. Example: A recommendation engine that learns user behavior and adjusts suggestions.\n",
      "\n",
      "**b. In Robotics:**\n",
      "- **Autonomous Robots**: Operate independently in dynamic environments (e.g., drones, warehouse robots).\n",
      "- **Human-Robot Collaborative Agents**: Work alongside humans (e.g., robotic arms in manufacturing).\n",
      "- **Mobile Agents**: Move through physical environments to perform tasks (e.g., delivery robots).\n",
      "\n",
      "**c. In Software and Business Automation:**\n",
      "- **Business Process Agents**: Automate routine tasks like invoice processing or customer service responses.\n",
      "- **Workflow Agents**: Coordinate multiple tasks within a system (e.g., workflow management in CRM software).\n",
      "- **Customer Service Agents**: Chatbots that respond to user queries in real time.\n",
      "\n",
      "**d. In Distributed Systems:**\n",
      "- **Multi-Agent Systems (MAS)**: Groups of agents that interact to solve complex problems (e.g., traffic management, supply chain optimization).\n",
      "- **Swarm Agents**: Simulate collective behavior (e.g., ant colonies, drone swarms).\n",
      "\n",
      "---\n",
      "\n",
      "**3. Role and Function of Agents in AI and Automation**\n",
      "\n",
      "Agents play a pivotal role in advancing AI and automation by enabling intelligent, adaptive, and scalable systems. Their key functions include:\n",
      "\n",
      "- **Autonomy and Decision-Making**: Agents operate independently, making real-time decisions without constant human intervention, which is essential in dynamic environments such as autonomous vehicles or smart homes.\n",
      "\n",
      "- **Adaptability and Learning**: Through machine learning and reinforcement learning, agents evolve their strategies based on feedback, improving accuracy and efficiency over time.\n",
      "\n",
      "- **Efficiency and Scalability**: Agents can perform repetitive or time-consuming tasks quickly and consistently, reducing human workload and operational costs. For example, AI agents in customer service reduce response times and increase service availability.\n",
      "\n",
      "- **Interoperability and Integration**: Agents can communicate and collaborate across different platforms and systems, enabling seamless integration in enterprise environments (e.g., connecting ERP, CRM, and supply chain systems).\n",
      "\n",
      "- **Problem Solving and Optimization**: In complex domains like logistics or energy management, agents use algorithms to find optimal solutions, such as route planning or load balancing.\n",
      "\n",
      "- **Human-AI Collaboration**: Agents serve as intelligent interfaces between humans and machines, enhancing user experience by providing personalized, context-aware assistance.\n",
      "\n",
      "In summary, agents are central to the development of intelligent systems that can perceive, reason, act, and learn—making them indispensable in modern AI and automation ecosystems.\n",
      "\n",
      "---\n",
      "\n",
      "**Conclusion**\n",
      "\n",
      "The concept of an agent bridges the gap between passive systems and intelligent, responsive automation. From simple rule-based tools to sophisticated AI-driven entities, agents are transforming how systems interact with their environments. As AI and automation continue to evolve, the design, deployment, and coordination of agents will remain a critical focus area across industries, driving innovation, efficiency, and human-machine collaboration.\n",
      "\n",
      "---  \n",
      "*End of Report*\n",
      "- - - - - End - - - - -\n",
      "\n"
     ]
    }
   ],
   "source": [
    "await report_writer.arun(user_input=\"What is an agent?\")"
   ]
  },
  {
   "cell_type": "markdown",
   "id": "74014e3a",
   "metadata": {},
   "source": [
    "Great! We successfully reused `OutlineWriter` in `ReportWriter`. \n",
    "\n",
    "## What have we done\n",
    "\n",
    "we added an automa as a `Worker` to another `Automa` to achieve nested reuse. There are several points that need special attention during the reuse process:\n",
    "\n",
    "1. **Worker Dependency**: A `Worker` in an `Automa` can only depend on other workers within the same `Automa`, and cannot depend across different `Automa`.\n",
    "2. **Routing**: A `Worker` in an `Automa` can only route to other workers within the same `Automa`, and cannot route across different `Automa`.\n",
    "3. **Human-in-the-loop**: When a worker inside throws an event, it hands over this event to the automa agent for handling. At this point, the event handling functions of nested automa need to be registered to the outermost Automa."
   ]
  }
 ],
 "metadata": {
  "kernelspec": {
   "display_name": ".venv",
   "language": "python",
   "name": "python3"
  },
  "language_info": {
   "codemirror_mode": {
    "name": "ipython",
    "version": 3
   },
   "file_extension": ".py",
   "mimetype": "text/x-python",
   "name": "python",
   "nbconvert_exporter": "python",
   "pygments_lexer": "ipython3",
   "version": "3.9.6"
  }
 },
 "nbformat": 4,
 "nbformat_minor": 5
}
