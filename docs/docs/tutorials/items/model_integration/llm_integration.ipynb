{
 "cells": [
  {
   "cell_type": "markdown",
   "id": "bdf33f38",
   "metadata": {},
   "source": [
    "# LLM Integration\n",
    "\n",
    "## Installation\n",
    "\n",
    "Bridgic uses a modular installation strategy—**install only the components you require**.\n",
    "\n",
    "Each model integration is available as a separate package, so you can minimize dependencies and keep your environment streamlined.\n",
    "\n",
    "```bash\n",
    "# For general OpenAI-compatible APIs, only support basic chat interfaces (Groq, Together AI, etc.)\n",
    "pip install bridgic-llms-openai-like\n",
    "\n",
    "# For OpenAI models (GPT-4, GPT-3.5, etc.)\n",
    "pip install bridgic-llms-openai\n",
    "\n",
    "# For vLLM server deployments\n",
    "pip install bridgic-llms-vllm\n",
    "```\n",
    "\n",
    "|         Package           | `BaseLlm` | `StructuredOutput` | `ToolSelection` |\n",
    "|:-------------------------:|:---------:|:------------------:|:---------------:|\n",
    "| `bridgic-llms-openai-like`|     ✅     |         ❌          |        ❌        |\n",
    "| `bridgic-llms-openai`     |     ✅     |         ✅          |        ✅        |\n",
    "| `bridgic-llms-vllm`       |     ✅     |         ✅          |        ✅        |\n"
   ]
  },
  {
   "cell_type": "markdown",
   "id": "33af962f",
   "metadata": {},
   "source": [
    "## LLM Usage\n",
    "\n",
    "This section demonstrates the complete lifecycle of working with models in Bridgic, from initialization to advanced features.\n",
    "\n",
    "### 1. Initialization\n",
    "\n",
    "Model initialization is straightforward and follows a consistent pattern across all providers."
   ]
  },
  {
   "cell_type": "code",
   "execution_count": 2,
   "id": "a56be50e",
   "metadata": {},
   "outputs": [],
   "source": [
    "import os\n",
    "from dotenv import load_dotenv\n",
    "from bridgic.llms.openai import OpenAILlm, OpenAIConfiguration\n",
    "\n",
    "load_dotenv()\n",
    "\n",
    "_api_key = os.environ.get(\"OPENAI_API_KEY\")\n",
    "\n",
    "llm = OpenAILlm(\n",
    "    api_key=_api_key,\n",
    ")\n",
    "\n",
    "config = OpenAIConfiguration(\n",
    "    model=\"gpt-4o\",\n",
    "    temperature=0.7,\n",
    "    max_tokens=2000,\n",
    ")\n",
    "\n",
    "llm = OpenAILlm(\n",
    "    api_key=_api_key,\n",
    "    configuration=config,\n",
    "    timeout=30.0,\n",
    ")"
   ]
  },
  {
   "cell_type": "markdown",
   "id": "81595488",
   "metadata": {},
   "source": [
    "### 2. Basic Interfaces\n",
    "\n",
    "All LLM providers in Bridgic implement the `BaseLlm` abstract class, which defines the fundamental `chat`/`stream` interfaces and their asynchronous variant.\n"
   ]
  },
  {
   "cell_type": "markdown",
   "id": "4252a553",
   "metadata": {},
   "source": [
    "#### 2.1 Chat\n",
    "\n",
    "The most basic interface for getting a complete response from the model:\n"
   ]
  },
  {
   "cell_type": "code",
   "execution_count": 6,
   "id": "de6980de",
   "metadata": {},
   "outputs": [
    {
     "name": "stdout",
     "output_type": "stream",
     "text": [
      "The capital of France is Paris.\n"
     ]
    }
   ],
   "source": [
    "from bridgic.core.model.types import Message, Role\n",
    "\n",
    "# Create messages\n",
    "messages = [\n",
    "    Message.from_text(\"You are a helpful assistant.\", role=Role.SYSTEM),\n",
    "    Message.from_text(\"What is the capital of France?\", role=Role.USER),\n",
    "]\n",
    "\n",
    "# Get response\n",
    "response = llm.chat(\n",
    "    messages=messages,\n",
    "    model=\"gpt-4o\",\n",
    "    temperature=0.7,\n",
    ")\n",
    "\n",
    "print(response.message.content)\n"
   ]
  },
  {
   "cell_type": "markdown",
   "id": "2436c763",
   "metadata": {},
   "source": [
    "#### 2.2 Streaming\n",
    "\n",
    "For real-time response generation:\n"
   ]
  },
  {
   "cell_type": "code",
   "execution_count": 8,
   "id": "8c50b786",
   "metadata": {},
   "outputs": [
    {
     "name": "stdout",
     "output_type": "stream",
     "text": [
      "The| capital| of| France| is| Paris|.|"
     ]
    }
   ],
   "source": [
    "# Stream response chunks\n",
    "for chunk in llm.stream(messages=messages, model=\"gpt-4o\"):\n",
    "    print(chunk.delta, end=\"|\", flush=True)  # Print each chunk as it arrives"
   ]
  },
  {
   "cell_type": "markdown",
   "id": "dceb93ba",
   "metadata": {},
   "source": [
    "### 3. Advanced Protocols\n",
    "\n",
    "Advanced interfaces are provided through optional protocols that providers can implement based on their capabilities."
   ]
  },
  {
   "cell_type": "markdown",
   "id": "c66bb8a1",
   "metadata": {},
   "source": [
    "#### 3.1 Structured Output (`StructuredOutput` Protocol)\n",
    "\n",
    "Generate outputs that conform to specific schemas or formats:\n"
   ]
  },
  {
   "cell_type": "code",
   "execution_count": 14,
   "id": "b743134a",
   "metadata": {},
   "outputs": [
    {
     "name": "stdout",
     "output_type": "stream",
     "text": [
      "REASONING:\n",
      "\n",
      "15 multiplied by 23 can be broken down into smaller, more manageable calculations using the distributive property of multiplication. Here's how:\n",
      "\n",
      "1. **Break down 23:**\n",
      "   - 23 can be expressed as 20 + 3.\n",
      "\n",
      "2. **Apply the distributive property:**\n",
      "   - 15 * 23 = 15 * (20 + 3)\n",
      "   - According to the distributive property, this can be expanded to:\n",
      "     - 15 * 20 + 15 * 3\n",
      "\n",
      "3. **Calculate the individual products:**\n",
      "   - **15 * 20**\n",
      "     - 15 * 2 = 30\n",
      "     - Append a zero (since you are multiplying by 20, which is 10 times 2):\n",
      "     - 15 * 20 = 300\n",
      "   \n",
      "   - **15 * 3**\n",
      "     - 15 * 3 = 45\n",
      "\n",
      "4. **Add the two results together:**\n",
      "   - 300 + 45 = 345\n",
      "\n",
      "Thus, using the distributive property and breaking down the numbers into simpler parts, we find that 15 multiplied by 23 equals 345.\n",
      "\n",
      "ANSWER: 345\n",
      "\n"
     ]
    }
   ],
   "source": [
    "from pydantic import BaseModel, Field\n",
    "from bridgic.core.model.protocols import PydanticModel, JsonSchema\n",
    "\n",
    "# Option 1: Using Pydantic Models\n",
    "class MathProblemSolution(BaseModel):\n",
    "    \"\"\"Solution to a math problem with reasoning\"\"\"\n",
    "    reasoning: str = Field(description=\"Step-by-step reasoning\")\n",
    "    answer: int = Field(description=\"Final numerical answer\")\n",
    "\n",
    "messages = [\n",
    "    Message.from_text(\"What is 15 * 23?\", role=Role.USER)\n",
    "]\n",
    "\n",
    "# Get structured output\n",
    "solution = llm.structured_output(\n",
    "    messages=messages,\n",
    "    constraint=PydanticModel(model=MathProblemSolution),\n",
    "    model=\"gpt-4o\",\n",
    ")\n",
    "\n",
    "print(f\"REASONING:\\n\\n{solution.reasoning}\\n\")\n",
    "print(f\"ANSWER: {solution.answer}\\n\")"
   ]
  },
  {
   "cell_type": "markdown",
   "id": "4dc9a9f3",
   "metadata": {},
   "source": [
    "#### 3.2 Tool Selection (`ToolSelection` Protocol)\n",
    "\n",
    "Enable models to select and use tools (function calling):\n"
   ]
  },
  {
   "cell_type": "code",
   "execution_count": 15,
   "id": "ce25a2e4",
   "metadata": {},
   "outputs": [
    {
     "name": "stdout",
     "output_type": "stream",
     "text": [
      "Tool: get_weather\n",
      "Arguments: {'location': 'Paris'}\n",
      "Call ID: call_aLv7xon4zhsNVMcnLmxsGJ3v\n"
     ]
    }
   ],
   "source": [
    "from bridgic.core.model.types import Tool\n",
    "\n",
    "# Define available tools\n",
    "tools = [\n",
    "    Tool(\n",
    "        name=\"get_weather\",\n",
    "        description=\"Get the current weather for a location\",\n",
    "        parameters={\n",
    "            \"type\": \"object\",\n",
    "            \"properties\": {\n",
    "                \"location\": {\n",
    "                    \"type\": \"string\",\n",
    "                    \"description\": \"City name, e.g., 'San Francisco, CA'\"\n",
    "                },\n",
    "                \"unit\": {\n",
    "                    \"type\": \"string\",\n",
    "                    \"enum\": [\"celsius\", \"fahrenheit\"],\n",
    "                    \"description\": \"Temperature unit\"\n",
    "                }\n",
    "            },\n",
    "            \"required\": [\"location\"]\n",
    "        }\n",
    "    ),\n",
    "    Tool(\n",
    "        name=\"calculate\",\n",
    "        description=\"Perform mathematical calculations\",\n",
    "        parameters={\n",
    "            \"type\": \"object\",\n",
    "            \"properties\": {\n",
    "                \"expression\": {\n",
    "                    \"type\": \"string\",\n",
    "                    \"description\": \"Mathematical expression to evaluate\"\n",
    "                }\n",
    "            },\n",
    "            \"required\": [\"expression\"]\n",
    "        }\n",
    "    )\n",
    "]\n",
    "\n",
    "# Model selects appropriate tool\n",
    "messages = [\n",
    "    Message.from_text(\"What's the weather like in Paris?\", role=Role.USER)\n",
    "]\n",
    "\n",
    "tool_calls, content = llm.select_tool(\n",
    "    messages=messages,\n",
    "    tools=tools,\n",
    "    model=\"gpt-4o\",\n",
    "    tool_choice=\"auto\",\n",
    ")\n",
    "\n",
    "# Process tool calls\n",
    "for tool_call in tool_calls:\n",
    "    print(f\"Tool: {tool_call.name}\")\n",
    "    print(f\"Arguments: {tool_call.arguments}\")\n",
    "    print(f\"Call ID: {tool_call.id}\")\n"
   ]
  }
 ],
 "metadata": {
  "kernelspec": {
   "display_name": "env_bridgic",
   "language": "python",
   "name": "python3"
  },
  "language_info": {
   "codemirror_mode": {
    "name": "ipython",
    "version": 3
   },
   "file_extension": ".py",
   "mimetype": "text/x-python",
   "name": "python",
   "nbconvert_exporter": "python",
   "pygments_lexer": "ipython3",
   "version": "3.9.24"
  }
 },
 "nbformat": 4,
 "nbformat_minor": 5
}
