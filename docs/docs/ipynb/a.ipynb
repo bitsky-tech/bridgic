{
 "cells": [
  {
   "cell_type": "markdown",
   "id": "46df8966",
   "metadata": {},
   "source": [
    "# 你好"
   ]
  },
  {
   "cell_type": "markdown",
   "id": "e698f510",
   "metadata": {},
   "source": [
    "\n",
    "\n",
    "![123](./test.png)"
   ]
  },
  {
   "cell_type": "code",
   "execution_count": null,
   "id": "3dc01f7b",
   "metadata": {},
   "outputs": [
    {
     "ename": "",
     "evalue": "",
     "output_type": "error",
     "traceback": [
      "\u001b[1;31mRunning cells with '.venv (Python 3.9.23)' requires the ipykernel package.\n",
      "\u001b[1;31mInstall 'ipykernel' into the Python environment. \n",
      "\u001b[1;31mCommand: '/Users/nicecode/Desktop/bitsky-tech/bridgic/.venv/bin/python -m pip install ipykernel -U --force-reinstall'"
     ]
    }
   ],
   "source": [
    "print(\"123\")"
   ]
  }
 ],
 "metadata": {
  "kernelspec": {
   "display_name": ".venv",
   "language": "python",
   "name": "python3"
  },
  "language_info": {
   "name": "python",
   "version": "3.9.23"
  }
 },
 "nbformat": 4,
 "nbformat_minor": 5
}
